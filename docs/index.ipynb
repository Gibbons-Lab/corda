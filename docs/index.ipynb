{
 "cells": [
  {
   "cell_type": "markdown",
   "metadata": {},
   "source": [
    "# CORDA tutorial"
   ]
  },
  {
   "cell_type": "markdown",
   "metadata": {},
   "source": [
    "## Reactions, Genes and confidences"
   ]
  },
  {
   "cell_type": "markdown",
   "metadata": {},
   "source": [
    "In order to start a reconstruction CORDA requires you to assign a confidence score to each reaction in your base model. This can be done by a variety of methods, and even by hand, but the most common way is to assign confidence based on proteome or gene expression data.\n",
    "\n",
    "CORDA manages a total of 5 confidence levels:\n",
    "\n",
    "- -1 for reactions that are not present and should not be included in the model\n",
    "- 0 for reactions with unknown confidence which may be included in the model if necessary\n",
    "- 1 for low confidence reactions that should be included if necessary\n",
    "- 2 for medium confidence reactions that should be included if necessary\n",
    "- 3 for high confidence reactions that must be included if possible in any way\n",
    "\n",
    "The most tedious step here is usaully mapping the confidence for genes or proteins to the distinct reactions. Many of the larger models come with gene-reaction rules in the form\n",
    "\n",
    "*gene1 and gene2 or (gene3 and gene4)* \n",
    "\n",
    "and the individual confidence values have to be mapped from the gene confidence levels. Here \"and\" is evaluated by the minimum confidence and \"or\" by the maximum confidence. The Python package includes a handy function to do this for you automatically in a safe manner. For that you will require the gene-reaction rule (Recon 1 and 2 include them in their model for instance) and a dictionary mapping genes/proteins to their confidence values. For examples:"
   ]
  },
  {
   "cell_type": "code",
   "execution_count": 1,
   "metadata": {
    "collapsed": false
   },
   "outputs": [
    {
     "data": {
      "text/plain": [
       "1"
      ]
     },
     "execution_count": 1,
     "metadata": {},
     "output_type": "execute_result"
    }
   ],
   "source": [
    "from corda import reaction_confidence\n",
    "\n",
    "gene_conf = {\"gene1\": 1, \"gene2\": 3, \"gene4\": -1} # missing entries are automatically assigned zeroes\n",
    "rule = \"gene1 and gene2 or (gene3 and gene4)\"\n",
    "\n",
    "reaction_confidence(rule, gene_conf)"
   ]
  },
  {
   "cell_type": "markdown",
   "metadata": {},
   "source": [
    "## A small example"
   ]
  },
  {
   "cell_type": "markdown",
   "metadata": {},
   "source": [
    "Now we will perform a small reconstruction. The package includes a small model in SBML format describing the general central carbon metabolism. "
   ]
  },
  {
   "cell_type": "code",
   "execution_count": 2,
   "metadata": {
    "collapsed": false
   },
   "outputs": [
    {
     "data": {
      "text/plain": [
       "60"
      ]
     },
     "execution_count": 2,
     "metadata": {},
     "output_type": "execute_result"
    }
   ],
   "source": [
    "from corda import test_model\n",
    "\n",
    "mod = test_model()\n",
    "len(mod.reactions)"
   ]
  },
  {
   "cell_type": "markdown",
   "metadata": {
    "collapsed": true
   },
   "source": [
    "Here the last reaction is a biomass reaction."
   ]
  },
  {
   "cell_type": "code",
   "execution_count": 3,
   "metadata": {
    "collapsed": false
   },
   "outputs": [
    {
     "data": {
      "text/plain": [
       "'0.39253 3pg + 20.7045 atp + 0.15446 cit + 0.38587 glu + 0.35261 oaa + 0.053446 prpp + 0.50563 pyr --> 20.6508 adp + 20.6508 pi'"
      ]
     },
     "execution_count": 3,
     "metadata": {},
     "output_type": "execute_result"
    }
   ],
   "source": [
    "mod.reactions[59].reaction"
   ]
  },
  {
   "cell_type": "markdown",
   "metadata": {},
   "source": [
    "We can now reconstruct the smallest model that still allows for the production of biomass. Let's start by setting the biomass reaction as high confidence and all other reactions as \"not include\"."
   ]
  },
  {
   "cell_type": "code",
   "execution_count": 4,
   "metadata": {
    "collapsed": true
   },
   "outputs": [],
   "source": [
    "conf = {}\n",
    "for r in mod.reactions: conf[r.id] = -1\n",
    "conf[\"r60\"] = 3"
   ]
  },
  {
   "cell_type": "markdown",
   "metadata": {},
   "source": [
    "Now we reconstruct the model."
   ]
  },
  {
   "cell_type": "code",
   "execution_count": 5,
   "metadata": {
    "collapsed": false
   },
   "outputs": [
    {
     "name": "stdout",
     "output_type": "stream",
     "text": [
      "build status: reconstruction complete\n",
      "Inc. reactions: 28/60\n",
      " - unclear: 0/0\n",
      " - exclude: 27/59\n",
      " - low and medium: 0/0\n",
      " - high: 1/1\n",
      "\n"
     ]
    }
   ],
   "source": [
    "from corda import CORDA\n",
    "\n",
    "opt = CORDA(mod, conf, n=20)\n",
    "opt.build()\n",
    "print(opt)"
   ]
  },
  {
   "cell_type": "markdown",
   "metadata": {},
   "source": [
    "The metric you sare for reversible reactions. We can obtain the irreversible reconstruction metrics by using:"
   ]
  },
  {
   "cell_type": "code",
   "execution_count": 6,
   "metadata": {
    "collapsed": false
   },
   "outputs": [
    {
     "name": "stdout",
     "output_type": "stream",
     "text": [
      "build status: reconstruction complete\n",
      "Inc. reactions: 28/101\n",
      " - unclear: 0/0\n",
      " - exclude: 27/100\n",
      " - low and medium: 0/0\n",
      " - high: 1/1\n",
      "\n"
     ]
    }
   ],
   "source": [
    "print(opt.info(reversible=False))"
   ]
  },
  {
   "cell_type": "markdown",
   "metadata": {},
   "source": [
    "In order to see the list of reactions in the reconstructed model without specifically creating the new model you can use the following snippet."
   ]
  },
  {
   "cell_type": "code",
   "execution_count": 7,
   "metadata": {
    "collapsed": false,
    "scrolled": true
   },
   "outputs": [
    {
     "name": "stdout",
     "output_type": "stream",
     "text": [
      "[' --> adp', 'atp + r5p --> amp + prpp', 'lac_L + nad --> nadh + pyr', 'nadh --> nad', ' --> pi', '13dpg --> 3pg + pi', 'g1p --> g6p', 'f6p + g3p --> e4p + xu5p_D', '0.39253 3pg + 20.7045 atp + 0.15446 cit + 0.38587 glu + 0.35261 oaa + 0.053446 prpp + 0.50563 pyr --> 20.6508 adp + 20.6508 pi', 'icit --> cit', 'akg + nadh --> icit + nad', 'g6p --> f6p', 'adp + pi --> atp', ' --> gln', 'glu + nad --> akg + nadh', ' --> lac_L', 'g3p + nad + pi --> 13dpg + nadh', 'ru5p_D --> r5p', 'xu5p_D --> ru5p_D', 'atp + pyr --> adp + oaa + pi', 'atp + f6p --> adp + fdp', 'gln --> glu', 'amp --> ', 'dhap --> g3p', 'e4p + f6p --> g3p + s7p', 'fdp --> dhap + g3p', ' --> g1p', 'g3p + s7p --> r5p + xu5p_D']\n"
     ]
    }
   ],
   "source": [
    "print([opt.model.reactions.get_by_id(k).reaction for k, v in opt.conf.items() if v == 3])"
   ]
  },
  {
   "cell_type": "markdown",
   "metadata": {},
   "source": [
    "This gives a reconstruction that looks like this (orange denotes included reactions):\n",
    "![reconstruction](reconstruction.png)"
   ]
  },
  {
   "cell_type": "markdown",
   "metadata": {},
   "source": [
    "We can also define additional metabolic functions that should be possible in the reconstruction. Let's assume we want to be able to produce pep."
   ]
  },
  {
   "cell_type": "code",
   "execution_count": 8,
   "metadata": {
    "collapsed": false
   },
   "outputs": [
    {
     "name": "stdout",
     "output_type": "stream",
     "text": [
      "build status: reconstruction complete\n",
      "Inc. reactions: 31/61\n",
      " - unclear: 0/0\n",
      " - exclude: 29/59\n",
      " - low and medium: 0/0\n",
      " - high: 2/2\n",
      "\n"
     ]
    }
   ],
   "source": [
    "opt = CORDA(mod, conf, met_prod=\"pep\")\n",
    "opt.build()\n",
    "print(opt)"
   ]
  },
  {
   "cell_type": "markdown",
   "metadata": {},
   "source": [
    "This time we included the production of pep:"
   ]
  },
  {
   "cell_type": "code",
   "execution_count": 9,
   "metadata": {
    "collapsed": false
   },
   "outputs": [
    {
     "name": "stdout",
     "output_type": "stream",
     "text": [
      "2pg <=> pep\n"
     ]
    }
   ],
   "source": [
    "rec = opt.cobra_model(\"plus_pep\")\n",
    "use = rec.metabolites.pep.reactions\n",
    "for r in use: print(r.reaction)"
   ]
  },
  {
   "cell_type": "markdown",
   "metadata": {},
   "source": [
    "This is the unique solution for that additional constraint because it only includes 2 new reactions (3pg --> 2pg --> pep). The alternative would be using oxaloacetate, however that would require an additional import og GTP and a sink for GDP and would thus be more expensive (3 reactions).\n",
    "\n",
    "By default CORDA uses redundancy. This means, in case there are several minimal pathways to reach your objective, CORDA will include several of those (which is good since it gives your model some robustness). In this case this did not happen since the best solution was unique. If we do not want that feature we can modify the parameter n in the CORDA initializer which denotes the maximum number of redundant pathways to include."
   ]
  },
  {
   "cell_type": "code",
   "execution_count": 10,
   "metadata": {
    "collapsed": false,
    "scrolled": true
   },
   "outputs": [
    {
     "name": "stdout",
     "output_type": "stream",
     "text": [
      "30\n",
      "2pg <=> pep\n"
     ]
    }
   ],
   "source": [
    "opt = CORDA(mod, conf, met_prod=\"pep\", n=1)\n",
    "opt.build()\n",
    "\n",
    "rec_min = opt.cobra_model(\"plus_pep_nored\")\n",
    "print(len(rec_min.reactions))\n",
    "use = rec_min.metabolites.pep.reactions\n",
    "for r in use: print(r.reaction)"
   ]
  },
  {
   "cell_type": "markdown",
   "metadata": {},
   "source": [
    "Which gives the same solution in that case."
   ]
  },
  {
   "cell_type": "code",
   "execution_count": null,
   "metadata": {
    "collapsed": true
   },
   "outputs": [],
   "source": []
  }
 ],
 "metadata": {
  "anaconda-cloud": {},
  "kernelspec": {
   "display_name": "Python [default]",
   "language": "python",
   "name": "python3"
  },
  "language_info": {
   "codemirror_mode": {
    "name": "ipython",
    "version": 3
   },
   "file_extension": ".py",
   "mimetype": "text/x-python",
   "name": "python",
   "nbconvert_exporter": "python",
   "pygments_lexer": "ipython3",
   "version": "3.4.5"
  }
 },
 "nbformat": 4,
 "nbformat_minor": 0
}
