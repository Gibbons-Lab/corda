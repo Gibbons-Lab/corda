{
 "cells": [
  {
   "cell_type": "markdown",
   "metadata": {
    "deletable": true,
    "editable": true
   },
   "source": [
    "# CORDA tutorial"
   ]
  },
  {
   "cell_type": "markdown",
   "metadata": {
    "deletable": true,
    "editable": true
   },
   "source": [
    "## Reactions, Genes and confidences"
   ]
  },
  {
   "cell_type": "markdown",
   "metadata": {
    "deletable": true,
    "editable": true
   },
   "source": [
    "In order to start a reconstruction CORDA requires you to assign a confidence score to each reaction in your base model. This can be done by a variety of methods, and even by hand, but the most common way is to assign confidence based on proteome or gene expression data.\n",
    "\n",
    "CORDA manages a total of 5 confidence levels:\n",
    "\n",
    "- -1 for reactions that are not present and should not be included in the model\n",
    "- 0 for reactions with unknown confidence which may be included in the model if necessary\n",
    "- 1 for low confidence reactions that should be included if necessary\n",
    "- 2 for medium confidence reactions that should be included if necessary\n",
    "- 3 for high confidence reactions that must be included if possible in any way\n",
    "\n",
    "The most tedious step here is usaully mapping the confidence for genes or proteins to the distinct reactions. Many of the larger models come with gene-reaction rules in the form\n",
    "\n",
    "*gene1 and gene2 or (gene3 and gene4)* \n",
    "\n",
    "and the individual confidence values have to be mapped from the gene confidence levels. Here \"and\" is evaluated by the minimum confidence and \"or\" by the maximum confidence. The Python package includes a handy function to do this for you automatically in a safe manner. For that you will require the gene-reaction rule (Recon 1 and 2 include them in their model for instance) and a dictionary mapping genes/proteins to their confidence values. For examples:"
   ]
  },
  {
   "cell_type": "code",
   "execution_count": 1,
   "metadata": {
    "collapsed": false,
    "deletable": true,
    "editable": true
   },
   "outputs": [
    {
     "data": {
      "text/plain": [
       "1"
      ]
     },
     "execution_count": 1,
     "metadata": {},
     "output_type": "execute_result"
    }
   ],
   "source": [
    "from corda import reaction_confidence\n",
    "\n",
    "gene_conf = {\"gene1\": 1, \"gene2\": 3, \"gene4\": -1} # missing entries are automatically assigned zeroes\n",
    "rule = \"gene1 and gene2 or (gene3 and gene4)\"\n",
    "\n",
    "reaction_confidence(rule, gene_conf)"
   ]
  },
  {
   "cell_type": "markdown",
   "metadata": {
    "deletable": true,
    "editable": true
   },
   "source": [
    "## A small example"
   ]
  },
  {
   "cell_type": "markdown",
   "metadata": {
    "deletable": true,
    "editable": true
   },
   "source": [
    "Now we will perform a small reconstruction. The package includes a small model in SBML format describing the general central carbon metabolism. "
   ]
  },
  {
   "cell_type": "code",
   "execution_count": 2,
   "metadata": {
    "collapsed": false,
    "deletable": true,
    "editable": true
   },
   "outputs": [
    {
     "data": {
      "text/plain": [
       "60"
      ]
     },
     "execution_count": 2,
     "metadata": {},
     "output_type": "execute_result"
    }
   ],
   "source": [
    "from corda import test_model\n",
    "\n",
    "mod = test_model()\n",
    "len(mod.reactions)"
   ]
  },
  {
   "cell_type": "markdown",
   "metadata": {
    "collapsed": true,
    "deletable": true,
    "editable": true
   },
   "source": [
    "Here the last reaction is a biomass reaction."
   ]
  },
  {
   "cell_type": "code",
   "execution_count": 3,
   "metadata": {
    "collapsed": false,
    "deletable": true,
    "editable": true
   },
   "outputs": [
    {
     "data": {
      "text/plain": [
       "'0.39253 3pg + 20.7045 atp + 0.15446 cit + 0.38587 glu + 0.35261 oaa + 0.053446 prpp + 0.50563 pyr --> 20.6508 adp + 20.6508 pi'"
      ]
     },
     "execution_count": 3,
     "metadata": {},
     "output_type": "execute_result"
    }
   ],
   "source": [
    "mod.reactions[59].reaction"
   ]
  },
  {
   "cell_type": "markdown",
   "metadata": {
    "deletable": true,
    "editable": true
   },
   "source": [
    "We can now reconstruct the smallest model that still allows for the production of biomass. Let's start by setting the biomass reaction as high confidence and all other reactions as \"not include\"."
   ]
  },
  {
   "cell_type": "code",
   "execution_count": 4,
   "metadata": {
    "collapsed": true,
    "deletable": true,
    "editable": true
   },
   "outputs": [],
   "source": [
    "conf = {}\n",
    "for r in mod.reactions: conf[r.id] = -1\n",
    "conf[\"r60\"] = 3"
   ]
  },
  {
   "cell_type": "markdown",
   "metadata": {
    "deletable": true,
    "editable": true
   },
   "source": [
    "Now we reconstruct the model."
   ]
  },
  {
   "cell_type": "code",
   "execution_count": 5,
   "metadata": {
    "collapsed": false,
    "deletable": true,
    "editable": true
   },
   "outputs": [
    {
     "name": "stdout",
     "output_type": "stream",
     "text": [
      "build status: reconstruction complete\n",
      "Inc. reactions: 33/60\n",
      " - unclear: 0/0\n",
      " - exclude: 32/59\n",
      " - low and medium: 0/0\n",
      " - high: 1/1\n",
      "\n"
     ]
    }
   ],
   "source": [
    "from corda import CORDA\n",
    "\n",
    "opt = CORDA(mod, conf)\n",
    "opt.build()\n",
    "print(opt)"
   ]
  },
  {
   "cell_type": "markdown",
   "metadata": {
    "deletable": true,
    "editable": true
   },
   "source": [
    "In order to see the list of reactions in the reconstructed model without specifically creating the new model you can use the following snippet."
   ]
  },
  {
   "cell_type": "code",
   "execution_count": 6,
   "metadata": {
    "collapsed": false,
    "deletable": true,
    "editable": true,
    "scrolled": true
   },
   "outputs": [
    {
     "name": "stdout",
     "output_type": "stream",
     "text": [
      "['cit <=> icit', 'icit + nad <=> akg + nadh', 'fdp <=> dhap + g3p', ' --> adp', 'g6p <=> f6p', ' <=> gln', 'r5p <=> ru5p_D', ' <=> pi', 'mal_L + nad <=> nadh + oaa', 'atp + r5p <=> amp + prpp', '0.39253 3pg + 20.7045 atp + 0.15446 cit + 0.38587 glu + 0.35261 oaa + 0.053446 prpp + 0.50563 pyr --> 20.6508 adp + 20.6508 pi', ' --> g1p', '3pg + atp <=> 13dpg + adp', ' <=> amp', 'nadh --> nad', 'atp + f6p --> adp + fdp', 'e4p + xu5p_D <=> f6p + g3p', 'icit + nadp <=> akg + nadph', 'dhap <=> g3p', 'gln <=> glu', 'g1p <=> g6p', 'mal_L + nadp <=> nadph + pyr', 'atp + pyr --> adp + oaa + pi', 'glu + nadp <=> akg + nadph', 'glu + nad <=> akg + nadh', 'ru5p_D <=> xu5p_D', 'adp + pi --> atp', 'lac_L <=> ', 'g3p + s7p <=> e4p + f6p', 'lac_L + nad <=> nadh + pyr', 'g3p + nad + pi <=> 13dpg + nadh', 'r5p + xu5p_D <=> g3p + s7p', 'mal_L + nad <=> nadh + pyr']\n"
     ]
    }
   ],
   "source": [
    "print([opt.model.reactions.get_by_id(k).reaction for k, used in opt.included.items() if used])"
   ]
  },
  {
   "cell_type": "markdown",
   "metadata": {
    "deletable": true,
    "editable": true
   },
   "source": [
    "This gives a reconstruction that looks like this (orange denotes included reactions):\n",
    "![reconstruction](reconstruction.png)"
   ]
  },
  {
   "cell_type": "markdown",
   "metadata": {
    "deletable": true,
    "editable": true
   },
   "source": [
    "We can also define additional metabolic functions that should be possible in the reconstruction. Let's assume we want to be able to produce pep."
   ]
  },
  {
   "cell_type": "code",
   "execution_count": 7,
   "metadata": {
    "collapsed": false,
    "deletable": true,
    "editable": true
   },
   "outputs": [
    {
     "name": "stdout",
     "output_type": "stream",
     "text": [
      "build status: reconstruction complete\n",
      "Inc. reactions: 39/61\n",
      " - unclear: 0/0\n",
      " - exclude: 37/59\n",
      " - low and medium: 0/0\n",
      " - high: 2/2\n",
      "\n"
     ]
    }
   ],
   "source": [
    "opt = CORDA(mod, conf, met_prod=\"pep\")\n",
    "opt.build()\n",
    "print(opt)"
   ]
  },
  {
   "cell_type": "markdown",
   "metadata": {
    "deletable": true,
    "editable": true
   },
   "source": [
    "This time we included the production of pep:"
   ]
  },
  {
   "cell_type": "code",
   "execution_count": 8,
   "metadata": {
    "collapsed": false,
    "deletable": true,
    "editable": true
   },
   "outputs": [
    {
     "name": "stdout",
     "output_type": "stream",
     "text": [
      "# of redundant pathway for pep = 2\n",
      "gtp + oaa <=> gdp + pep\n",
      "2pg <=> pep\n"
     ]
    }
   ],
   "source": [
    "rec = opt.cobra_model(\"plus_pep\")\n",
    "use = rec.metabolites.pep.reactions\n",
    "print(\"# of redundant pathway for pep =\", opt.redundancies[\"EX_CORDA_0\"])\n",
    "for r in use: print(r.reaction)"
   ]
  },
  {
   "cell_type": "markdown",
   "metadata": {
    "deletable": true,
    "editable": true
   },
   "source": [
    "By default CORDA uses redundancy. This means, in case there are several minimal pathways to reach your objective, CORDA will include all of those (which is good since it gives your model some robustness). In this case this did happen and yields two different forms to produce pep. If we do not want that feature we can modify the parameter n in the CORDA initializer which denotes the maximum number of redundant pathways to include."
   ]
  },
  {
   "cell_type": "code",
   "execution_count": 9,
   "metadata": {
    "collapsed": false,
    "deletable": true,
    "editable": true,
    "scrolled": true
   },
   "outputs": [
    {
     "name": "stdout",
     "output_type": "stream",
     "text": [
      "used 33 reactions\n",
      "# of redundant pathway for pep = 1\n",
      "gtp + oaa <=> gdp + pep\n"
     ]
    }
   ],
   "source": [
    "opt = CORDA(mod, conf, met_prod=\"pep\", n=1)\n",
    "opt.build()\n",
    "\n",
    "rec_min = opt.cobra_model(\"plus_pep_nored\")\n",
    "print(\"used\", len(rec_min.reactions), \"reactions\")\n",
    "print(\"# of redundant pathway for pep =\", opt.redundancies[\"EX_CORDA_0\"])\n",
    "use = rec_min.metabolites.pep.reactions\n",
    "for r in use: print(r.reaction)"
   ]
  },
  {
   "cell_type": "markdown",
   "metadata": {
    "deletable": true,
    "editable": true
   },
   "source": [
    "Which now includes only a single pathway to activate each high confidence flux."
   ]
  }
 ],
 "metadata": {
  "anaconda-cloud": {},
  "kernelspec": {
   "display_name": "Python 3",
   "language": "python",
   "name": "python3"
  },
  "language_info": {
   "codemirror_mode": {
    "name": "ipython",
    "version": 3
   },
   "file_extension": ".py",
   "mimetype": "text/x-python",
   "name": "python",
   "nbconvert_exporter": "python",
   "pygments_lexer": "ipython3",
   "version": "3.5.2"
  }
 },
 "nbformat": 4,
 "nbformat_minor": 0
}
